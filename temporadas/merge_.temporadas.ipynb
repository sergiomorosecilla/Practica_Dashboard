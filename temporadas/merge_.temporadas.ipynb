{
 "cells": [
  {
   "cell_type": "code",
   "execution_count": 2,
   "id": "416c6837",
   "metadata": {},
   "outputs": [],
   "source": [
    "import pandas as pd\n",
    "import os\n",
    "import glob\n",
    "pd.set_option('display.max_columns', None)"
   ]
  },
  {
   "cell_type": "code",
   "execution_count": 4,
   "id": "c86a887c",
   "metadata": {},
   "outputs": [
    {
     "name": "stdout",
     "output_type": "stream",
     "text": [
      "  tourney_id tourney_name surface  draw_size tourney_level  tourney_date  \\\n",
      "0   1998-339     Adelaide    Hard         32             A      19980105   \n",
      "1   1998-339     Adelaide    Hard         32             A      19980105   \n",
      "2   1998-339     Adelaide    Hard         32             A      19980105   \n",
      "3   1998-339     Adelaide    Hard         32             A      19980105   \n",
      "4   1998-339     Adelaide    Hard         32             A      19980105   \n",
      "\n",
      "   match_num  winner_id  winner_seed winner_entry        winner_name  \\\n",
      "0          1     102035          1.0          NaN     Jonas Bjorkman   \n",
      "1          2     101727          NaN          NaN  Jason Stoltenberg   \n",
      "2          3     102765          NaN            Q     Nicolas Escude   \n",
      "3          4     102563          7.0          NaN   Thomas Johansson   \n",
      "4          5     102796          4.0          NaN      Magnus Norman   \n",
      "\n",
      "  winner_hand  winner_ht winner_ioc  winner_age  loser_id  loser_seed  \\\n",
      "0           R      183.0        SWE        25.7    101917         NaN   \n",
      "1           R      185.0        AUS        27.7    102548         NaN   \n",
      "2           R      185.0        FRA        21.7    102491         NaN   \n",
      "3           R      180.0        SWE        22.7    101647         NaN   \n",
      "4           R      188.0        SWE        21.6    102104         NaN   \n",
      "\n",
      "  loser_entry          loser_name loser_hand  loser_ht loser_ioc  loser_age  \\\n",
      "0         NaN      Grant Stafford          R     188.0       RSA       26.6   \n",
      "1         NaN  Juan Antonio Marin          R     175.0       CRC       22.8   \n",
      "2         NaN      Alex Radulescu          R     185.0       GER       23.0   \n",
      "3         NaN         Byron Black          R     175.0       ZIM       28.2   \n",
      "4         NaN      Christian Ruud          R     188.0       NOR       25.3   \n",
      "\n",
      "         score  best_of round  minutes  w_ace  w_df  w_svpt  w_1stIn  \\\n",
      "0      6-4 6-2        3   R32     68.0    7.0   1.0    56.0     29.0   \n",
      "1      6-4 6-1        3   R32     69.0    6.0   0.0    56.0     30.0   \n",
      "2      6-0 7-5        3   R32     61.0   12.0   0.0    51.0     28.0   \n",
      "3      7-5 6-3        3   R32     76.0    6.0   1.0    63.0     30.0   \n",
      "4  6-3 1-6 6-4        3   R32    115.0    9.0   6.0    80.0     27.0   \n",
      "\n",
      "   w_1stWon  w_2ndWon  w_SvGms  w_bpSaved  w_bpFaced  l_ace  l_df  l_svpt  \\\n",
      "0      22.0      17.0      9.0        1.0        1.0    2.0   4.0    54.0   \n",
      "1      23.0      15.0      9.0        1.0        2.0    1.0   7.0    64.0   \n",
      "2      22.0       9.0      9.0        4.0        7.0    3.0   2.0    60.0   \n",
      "3      20.0      19.0     10.0        3.0        5.0    3.0   2.0    56.0   \n",
      "4      22.0      23.0     13.0        3.0        8.0    5.0   5.0    99.0   \n",
      "\n",
      "   l_1stIn  l_1stWon  l_2ndWon  l_SvGms  l_bpSaved  l_bpFaced  winner_rank  \\\n",
      "0     29.0      18.0      11.0      9.0        2.0        5.0          4.0   \n",
      "1     32.0      19.0      11.0      8.0        9.0       13.0         79.0   \n",
      "2     38.0      18.0       7.0      9.0        5.0       12.0         93.0   \n",
      "3     37.0      21.0      10.0     11.0        1.0        6.0         39.0   \n",
      "4     57.0      33.0      20.0     13.0       12.0       17.0         22.0   \n",
      "\n",
      "   winner_rank_points  loser_rank  loser_rank_points  \n",
      "0              2949.0        74.0              649.0  \n",
      "1               617.0        87.0              537.0  \n",
      "2               521.0        71.0              665.0  \n",
      "3               959.0        76.0              633.0  \n",
      "4              1450.0        65.0              708.0  \n"
     ]
    }
   ],
   "source": [
    "ruta = ('../temporadas')\n",
    "\n",
    "# Obtener lista de todos los archivos CSV en esa carpeta\n",
    "archivos_csv = glob.glob(os.path.join(ruta, \"*.csv\"))\n",
    "\n",
    "# Leer y concatenar todos los archivos \n",
    "df_unificado = pd.concat((pd.read_csv(archivo) for archivo in archivos_csv), ignore_index=True)\n",
    "\n",
    "# Verifica las primeras filas\n",
    "print(df_unificado.head())\n",
    "\n"
   ]
  },
  {
   "cell_type": "code",
   "execution_count": 5,
   "id": "aad456aa",
   "metadata": {},
   "outputs": [],
   "source": [
    "# Guardar en un nuevo archivo\n",
    "df_unificado.to_csv(\"estadisticas_atp_1998_2024.csv\", index=False)"
   ]
  }
 ],
 "metadata": {
  "kernelspec": {
   "display_name": "base",
   "language": "python",
   "name": "python3"
  },
  "language_info": {
   "codemirror_mode": {
    "name": "ipython",
    "version": 3
   },
   "file_extension": ".py",
   "mimetype": "text/x-python",
   "name": "python",
   "nbconvert_exporter": "python",
   "pygments_lexer": "ipython3",
   "version": "3.12.7"
  }
 },
 "nbformat": 4,
 "nbformat_minor": 5
}
